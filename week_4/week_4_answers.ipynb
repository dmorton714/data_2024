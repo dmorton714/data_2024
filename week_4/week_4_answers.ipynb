{
 "cells": [
  {
   "cell_type": "markdown",
   "metadata": {},
   "source": [
    "![Monty Python Logo](https://aspectsofhistory.com/wp-content/uploads/2021/06/Die_Ritter_der_Kokosnuss_Logo.png)\n"
   ]
  },
  {
   "cell_type": "markdown",
   "metadata": {},
   "source": [
    "# Monty Python-Themed Game\n",
    "**Objective:**\n",
    "\n",
    "Create a text-based adventure game inspired by Monty Python, where players make choices and see how they progress through humorous scenarios. This exercise will reinforce concepts like variables, if statements, loops, and basic functions."
   ]
  },
  {
   "cell_type": "markdown",
   "metadata": {},
   "source": [
    "**1. Set Up the Scene**\n",
    "\n",
    "Start by setting up a simple introduction to the game.\n",
    "print the following to the player:\n",
    "- \"Welcome to the Monty Python Adventure!\"\n",
    "- \"You are about to embark on a quest for the Holy Grail. Beware of dangerous encounters!\""
   ]
  },
  {
   "cell_type": "code",
   "execution_count": 1,
   "metadata": {},
   "outputs": [
    {
     "name": "stdout",
     "output_type": "stream",
     "text": [
      "Welcome to the Monty Python Adventure!\n",
      "You are about to embark on a quest for the Holy Grail. Beware of dangerous encounters!\n"
     ]
    }
   ],
   "source": [
    "print(\"Welcome to the Monty Python Adventure!\")\n",
    "print(\"You are about to embark on a quest for the Holy Grail. Beware of dangerous encounters!\")"
   ]
  },
  {
   "cell_type": "markdown",
   "metadata": {},
   "source": [
    "**2. Character Setup**\n",
    "\n",
    "Define variables to store basic player information:\n",
    "- Define the variable players name \n",
    "- Take an input to get the players name. \n",
    "    - \"What is your name, brave adventurer? \"\n",
    "- Welcome the player to the game \n",
    "    - use a f string for this\n",
    "    - \"Welcome, Sir `player_name` of Pythonia!\""
   ]
  },
  {
   "cell_type": "code",
   "execution_count": null,
   "metadata": {},
   "outputs": [],
   "source": [
    "player_name = input(\"What is your name, brave adventurer? \")\n",
    "print(f\"Welcome, Sir {player_name} of Pythonia!\")\n"
   ]
  },
  {
   "cell_type": "markdown",
   "metadata": {},
   "source": [
    "3. Choices with Conditional Statements\n",
    "\n",
    "In this step, you’ll add choices that let the player decide what to do when they encounter a knight. Based on their input, the game will respond with different outcomes.\n",
    "\n",
    "**Set the Scene**\n",
    "Add the following lines to introduce the knight’s challenge:\n",
    "- Display: A knight steps in front of you and says, 'None shall pass!'\n",
    "- Take in a players `choice`\n",
    "    - 1 fight the knight\n",
    "    - 2 try to reason with him?\n",
    "\n",
    "**Add Conditional Responses**\n",
    "Now, use an `if` statement to check the player’s response and determine what happens next. \n",
    "\n",
    "- if choice 1\n",
    "    - print: The knight draws his sword. It's time for battle!\n",
    "    - **Optional: Add more logic here for the battle, such as health points or chance outcomes**\n",
    "- elif choice 2\n",
    "    - print: The knight scoffs at your attempt to reason and attacks anyway.\"\n",
    "    - **Optional: Add consequences here for choosing to reason**\n",
    "- else\n",
    "    - print: You hesitate... and the knight charges!\""
   ]
  },
  {
   "cell_type": "code",
   "execution_count": 3,
   "metadata": {},
   "outputs": [
    {
     "name": "stdout",
     "output_type": "stream",
     "text": [
      "A knight steps in front of you and says, 'None shall pass!'\n",
      "The knight draws his sword. It's time for battle!\n"
     ]
    }
   ],
   "source": [
    "print(\"A knight steps in front of you and says, 'None shall pass!'\")\n",
    "choice = input(\"Do you (1) fight the knight, or (2) try to reason with him? \")\n",
    "\n",
    "if choice == \"1\":\n",
    "    print(\"The knight draws his sword. It's time for battle!\")\n",
    "    # Add more logic here for the battle (e.g., health points or chance outcomes)\n",
    "elif choice == \"2\":\n",
    "    print(\"The knight scoffs at your attempt to reason and attacks anyway.\")\n",
    "    # Add consequences here\n",
    "else:\n",
    "    print(\"You hesitate... and the knight charges!\")\n"
   ]
  },
  {
   "cell_type": "markdown",
   "metadata": {},
   "source": [
    "**Test Your Code**\n",
    "Run the code and try typing different options to see each response."
   ]
  },
  {
   "cell_type": "markdown",
   "metadata": {},
   "source": [
    "**4. Loops for Repeated Choices**\n",
    "\n",
    "In this step, you’ll add a while loop that will keep asking the player if they want to cross the Bridge of Death until they enter a valid response. This will ensure that the player only proceeds if they choose \"yes\" or \"no.\"\n",
    "\n",
    "**Write the Loop Add the following lines to create the bridge-crossing scene:**\n",
    "\n",
    "- Display: \"Do you want to cross the Bridge of Death? (yes/no)\"\n",
    "- Take in a player’s `response`\n",
    "    - Convert the player’s input to lowercase using `.lower()`\n",
    "\n",
    "**Add Conditional Responses**\n",
    "\n",
    "Use an if statement inside the while loop to check the player’s response:\n",
    "\n",
    "- if response is \"yes\"\n",
    "    - Display: \"A troll appears and asks you three questions!\"\n",
    "    - End the loop with break\n",
    "- elif response is \"no\"\n",
    "    - Display: \"You wisely turn back.\"\n",
    "    - End the loop with break\n",
    "- else\n",
    "    - Display: \"Please answer 'yes' or 'no'.\"\n",
    "    - The loop will continue, asking again"
   ]
  },
  {
   "cell_type": "code",
   "execution_count": 1,
   "metadata": {},
   "outputs": [
    {
     "name": "stdout",
     "output_type": "stream",
     "text": [
      "Please answer 'yes' or 'no'.\n",
      "Please answer 'yes' or 'no'.\n",
      "Please answer 'yes' or 'no'.\n",
      "Please answer 'yes' or 'no'.\n"
     ]
    },
    {
     "ename": "KeyboardInterrupt",
     "evalue": "Interrupted by user",
     "output_type": "error",
     "traceback": [
      "\u001b[0;31m---------------------------------------------------------------------------\u001b[0m",
      "\u001b[0;31mKeyboardInterrupt\u001b[0m                         Traceback (most recent call last)",
      "Cell \u001b[0;32mIn[1], line 2\u001b[0m\n\u001b[1;32m      1\u001b[0m \u001b[38;5;28;01mwhile\u001b[39;00m \u001b[38;5;28;01mTrue\u001b[39;00m:\n\u001b[0;32m----> 2\u001b[0m     response \u001b[38;5;241m=\u001b[39m \u001b[38;5;28;43minput\u001b[39;49m\u001b[43m(\u001b[49m\u001b[38;5;124;43m\"\u001b[39;49m\u001b[38;5;124;43mDo you want to cross the Bridge of Death? (yes/no) \u001b[39;49m\u001b[38;5;124;43m\"\u001b[39;49m\u001b[43m)\u001b[49m\u001b[38;5;241m.\u001b[39mlower()\n\u001b[1;32m      3\u001b[0m     \u001b[38;5;28;01mif\u001b[39;00m response \u001b[38;5;241m==\u001b[39m \u001b[38;5;124m\"\u001b[39m\u001b[38;5;124myes\u001b[39m\u001b[38;5;124m\"\u001b[39m:\n\u001b[1;32m      4\u001b[0m         \u001b[38;5;28mprint\u001b[39m(\u001b[38;5;124m\"\u001b[39m\u001b[38;5;124mA troll appears and asks you three questions!\u001b[39m\u001b[38;5;124m\"\u001b[39m)\n",
      "File \u001b[0;32m~/Desktop/data_2024/venv/lib/python3.12/site-packages/ipykernel/kernelbase.py:1282\u001b[0m, in \u001b[0;36mKernel.raw_input\u001b[0;34m(self, prompt)\u001b[0m\n\u001b[1;32m   1280\u001b[0m     msg \u001b[38;5;241m=\u001b[39m \u001b[38;5;124m\"\u001b[39m\u001b[38;5;124mraw_input was called, but this frontend does not support input requests.\u001b[39m\u001b[38;5;124m\"\u001b[39m\n\u001b[1;32m   1281\u001b[0m     \u001b[38;5;28;01mraise\u001b[39;00m StdinNotImplementedError(msg)\n\u001b[0;32m-> 1282\u001b[0m \u001b[38;5;28;01mreturn\u001b[39;00m \u001b[38;5;28;43mself\u001b[39;49m\u001b[38;5;241;43m.\u001b[39;49m\u001b[43m_input_request\u001b[49m\u001b[43m(\u001b[49m\n\u001b[1;32m   1283\u001b[0m \u001b[43m    \u001b[49m\u001b[38;5;28;43mstr\u001b[39;49m\u001b[43m(\u001b[49m\u001b[43mprompt\u001b[49m\u001b[43m)\u001b[49m\u001b[43m,\u001b[49m\n\u001b[1;32m   1284\u001b[0m \u001b[43m    \u001b[49m\u001b[38;5;28;43mself\u001b[39;49m\u001b[38;5;241;43m.\u001b[39;49m\u001b[43m_parent_ident\u001b[49m\u001b[43m[\u001b[49m\u001b[38;5;124;43m\"\u001b[39;49m\u001b[38;5;124;43mshell\u001b[39;49m\u001b[38;5;124;43m\"\u001b[39;49m\u001b[43m]\u001b[49m\u001b[43m,\u001b[49m\n\u001b[1;32m   1285\u001b[0m \u001b[43m    \u001b[49m\u001b[38;5;28;43mself\u001b[39;49m\u001b[38;5;241;43m.\u001b[39;49m\u001b[43mget_parent\u001b[49m\u001b[43m(\u001b[49m\u001b[38;5;124;43m\"\u001b[39;49m\u001b[38;5;124;43mshell\u001b[39;49m\u001b[38;5;124;43m\"\u001b[39;49m\u001b[43m)\u001b[49m\u001b[43m,\u001b[49m\n\u001b[1;32m   1286\u001b[0m \u001b[43m    \u001b[49m\u001b[43mpassword\u001b[49m\u001b[38;5;241;43m=\u001b[39;49m\u001b[38;5;28;43;01mFalse\u001b[39;49;00m\u001b[43m,\u001b[49m\n\u001b[1;32m   1287\u001b[0m \u001b[43m\u001b[49m\u001b[43m)\u001b[49m\n",
      "File \u001b[0;32m~/Desktop/data_2024/venv/lib/python3.12/site-packages/ipykernel/kernelbase.py:1325\u001b[0m, in \u001b[0;36mKernel._input_request\u001b[0;34m(self, prompt, ident, parent, password)\u001b[0m\n\u001b[1;32m   1322\u001b[0m \u001b[38;5;28;01mexcept\u001b[39;00m \u001b[38;5;167;01mKeyboardInterrupt\u001b[39;00m:\n\u001b[1;32m   1323\u001b[0m     \u001b[38;5;66;03m# re-raise KeyboardInterrupt, to truncate traceback\u001b[39;00m\n\u001b[1;32m   1324\u001b[0m     msg \u001b[38;5;241m=\u001b[39m \u001b[38;5;124m\"\u001b[39m\u001b[38;5;124mInterrupted by user\u001b[39m\u001b[38;5;124m\"\u001b[39m\n\u001b[0;32m-> 1325\u001b[0m     \u001b[38;5;28;01mraise\u001b[39;00m \u001b[38;5;167;01mKeyboardInterrupt\u001b[39;00m(msg) \u001b[38;5;28;01mfrom\u001b[39;00m \u001b[38;5;28;01mNone\u001b[39;00m\n\u001b[1;32m   1326\u001b[0m \u001b[38;5;28;01mexcept\u001b[39;00m \u001b[38;5;167;01mException\u001b[39;00m:\n\u001b[1;32m   1327\u001b[0m     \u001b[38;5;28mself\u001b[39m\u001b[38;5;241m.\u001b[39mlog\u001b[38;5;241m.\u001b[39mwarning(\u001b[38;5;124m\"\u001b[39m\u001b[38;5;124mInvalid Message:\u001b[39m\u001b[38;5;124m\"\u001b[39m, exc_info\u001b[38;5;241m=\u001b[39m\u001b[38;5;28;01mTrue\u001b[39;00m)\n",
      "\u001b[0;31mKeyboardInterrupt\u001b[0m: Interrupted by user"
     ]
    }
   ],
   "source": [
    "while True:\n",
    "    response = input(\"Do you want to cross the Bridge of Death? (yes/no) \").lower()\n",
    "    if response == \"yes\":\n",
    "        print(\"A troll appears and asks you three questions!\")\n",
    "        break\n",
    "    elif response == \"no\":\n",
    "        print(\"You wisely turn back.\")\n",
    "        break\n",
    "    else:\n",
    "        print(\"Please answer 'yes' or 'no'.\")\n"
   ]
  },
  {
   "cell_type": "markdown",
   "metadata": {},
   "source": [
    "**5. Ending the Game**\n",
    "\n",
    "In this final step, you’ll display a message congratulating the player for completing their quest and saying farewell. This will conclude your Monty Python-themed adventure game.\n",
    "\n",
    "**Display the Ending Messages** \n",
    "Add the following lines to announce the player’s success and say goodbye:\n",
    "\n",
    "- Display: \"Congratulations, you have completed your quest!\"\n",
    "- Display: A farewell message that includes the player’s name:\n",
    "    - Use an `f`-string` to personalize the message by inserting `player_name`"
   ]
  },
  {
   "cell_type": "code",
   "execution_count": null,
   "metadata": {},
   "outputs": [
    {
     "name": "stdout",
     "output_type": "stream",
     "text": [
      "Congratulations, you have completed your quest!\n",
      "Farewell, Sir danny!\n"
     ]
    }
   ],
   "source": [
    "print(\"Congratulations, you have completed your quest!\")\n",
    "print(f\"Farewell, Sir {player_name}!\")"
   ]
  },
  {
   "cell_type": "markdown",
   "metadata": {},
   "source": []
  },
  {
   "cell_type": "markdown",
   "metadata": {},
   "source": [
    "**6. Combine Your Code**\n",
    "\n",
    "Now, put all your code cells together into one complete program so the player can experience the entire game from start to finish. Copy each section of code from above and arrange them in sequence. This will create a seamless game that flows through the introduction, choices, repeated prompts, and final farewell message.\n",
    "\n",
    "Your final code should look like this:\n",
    "\n",
    "1. Introduction - Welcome the player and set up their character.\n",
    "2. First Choice - Encounter with the knight and the player's response options.\n",
    "3. Repeated Prompt - The Bridge of Death question with the while loop.\n",
    "4. Ending - Display the congratulatory message and personalized farewell.\n",
    "Run your combined code to play through the game in full!"
   ]
  },
  {
   "cell_type": "code",
   "execution_count": null,
   "metadata": {},
   "outputs": [],
   "source": [
    "a = \"test.com\""
   ]
  }
 ],
 "metadata": {
  "kernelspec": {
   "display_name": "venv",
   "language": "python",
   "name": "python3"
  },
  "language_info": {
   "codemirror_mode": {
    "name": "ipython",
    "version": 3
   },
   "file_extension": ".py",
   "mimetype": "text/x-python",
   "name": "python",
   "nbconvert_exporter": "python",
   "pygments_lexer": "ipython3",
   "version": "3.12.4"
  }
 },
 "nbformat": 4,
 "nbformat_minor": 2
}
